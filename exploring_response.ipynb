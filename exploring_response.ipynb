{
 "cells": [
  {
   "cell_type": "code",
   "execution_count": null,
   "id": "initial_id",
   "metadata": {
    "collapsed": true,
    "is_executing": true
   },
   "outputs": [],
   "source": []
  },
  {
   "cell_type": "code",
   "execution_count": 60,
   "outputs": [],
   "source": [
    "response_json = {\n",
    "    \"results\": {\n",
    "        \"location\": [\n",
    "            {\n",
    "                \"is_msa\": True,\n",
    "                \"raw_location\": \"Bay Area\",\n",
    "                \"synonimised_location\": \"San Francisco Bay Area, United States\"\n",
    "            },\n",
    "            {\n",
    "                \"is_msa\": True,\n",
    "                \"raw_location\": \"Seattle\",\n",
    "                \"synonimised_location\": \"Greater Seattle Area, United States\"\n",
    "            }\n",
    "        ],\n",
    "        \"skill\": [\n",
    "            {\n",
    "                \"is_synonimised\": True,\n",
    "                \"raw_skill\": \"Hadoop\",\n",
    "                \"sim_score\": 0.714990496635437,\n",
    "                \"synon_skill\": \"Hadoop\"\n",
    "            },\n",
    "            {\n",
    "                \"is_synonimised\": True,\n",
    "                \"raw_skill\": \"Spark\",\n",
    "                \"sim_score\": 0.5610169172286987,\n",
    "                \"synon_skill\": \"Adobe Spark\"\n",
    "            }\n",
    "        ]\n",
    "    },\n",
    "    \"status\": 200,\n",
    "    \"success\": True,\n",
    "    \"unsynonimised_results\": {\n",
    "        \"COMPANY\": [\n",
    "            \"Apple\"\n",
    "        ],\n",
    "        \"JOB TITLE\": [\n",
    "            \"Data Engineer\"\n",
    "        ],\n",
    "        \"LOCATION\": [\n",
    "            \"Bay Area\",\n",
    "            \"Seattle\"\n",
    "        ],\n",
    "        \"TOOLS\": [\n",
    "            \"Spark\",\n",
    "            \"Hadoop\"\n",
    "        ],\n",
    "        \"YEARS OF EXPERIENCE\": [\n",
    "            \"7+ Years\"\n",
    "        ]\n",
    "    }\n",
    "}"
   ],
   "metadata": {
    "collapsed": false,
    "ExecuteTime": {
     "end_time": "2023-10-12T10:15:59.887283Z",
     "start_time": "2023-10-12T10:15:59.884645Z"
    }
   },
   "id": "94577dff6a425433"
  },
  {
   "cell_type": "code",
   "execution_count": 61,
   "outputs": [],
   "source": [
    "company = response_json.get('unsynonimised_results').get('COMPANY',[None])[0]\n",
    "job_title = response_json.get('unsynonimised_results').get('JOB TITLE',[None])[0]\n",
    "# location = response_json.get('results').get('location',[None])[0].get('synonimised_location', None)\n",
    "# if not location:\n",
    "#     location = response_json.get('unsynonimised_results').get('LOCATION',[None])[0]\n",
    "# \n",
    "locations = response_json.get('results').get('location',None)\n",
    "if locations:\n",
    "    out_list = lambda x: [i.get('synonimised_location',None) for i in x]\n",
    "    location = out_list(locations)\n",
    "else:\n",
    "    location = response_json.get('unsynonimised_results').get('LOCATION',[None])\n",
    "    \n",
    "    \n",
    "    \n",
    "years_of_experience = response_json.get('unsynonimised_results').get('YEARS OF EXPERIENCE',[None])[0]"
   ],
   "metadata": {
    "collapsed": false,
    "ExecuteTime": {
     "end_time": "2023-10-12T10:16:28.078169Z",
     "start_time": "2023-10-12T10:16:28.075284Z"
    }
   },
   "id": "8c4209fce9a70498"
  },
  {
   "cell_type": "code",
   "execution_count": 62,
   "outputs": [
    {
     "name": "stdout",
     "output_type": "stream",
     "text": [
      "Apple Data Engineer ['San Francisco Bay Area, United States', 'Greater Seattle Area, United States'] 7+ Years\n"
     ]
    }
   ],
   "source": [
    "print(company,job_title,location,years_of_experience)"
   ],
   "metadata": {
    "collapsed": false,
    "ExecuteTime": {
     "end_time": "2023-10-12T10:16:32.084262Z",
     "start_time": "2023-10-12T10:16:32.075720Z"
    }
   },
   "id": "657492bdde6f5f13"
  },
  {
   "cell_type": "code",
   "execution_count": 57,
   "outputs": [],
   "source": [
    "skills = response_json.get('results').get('skill',None)\n",
    "if skills:\n",
    "    out_list = lambda x: [i.get('synon_skill',None) for i in x]\n",
    "    skill = out_list(skills)\n",
    "else:\n",
    "    skill = response_json.get('unsynonimised_results').get('TOOLS',[None])"
   ],
   "metadata": {
    "collapsed": false,
    "ExecuteTime": {
     "end_time": "2023-10-12T10:04:27.632220Z",
     "start_time": "2023-10-12T10:04:27.625809Z"
    }
   },
   "id": "a0b016cfb2ccd28e"
  },
  {
   "cell_type": "code",
   "execution_count": 55,
   "outputs": [
    {
     "name": "stdout",
     "output_type": "stream",
     "text": [
      "None\n"
     ]
    }
   ],
   "source": [
    "print(skills)"
   ],
   "metadata": {
    "collapsed": false,
    "ExecuteTime": {
     "end_time": "2023-10-12T10:04:10.424195Z",
     "start_time": "2023-10-12T10:04:10.415980Z"
    }
   },
   "id": "3b6636215c961d7"
  },
  {
   "cell_type": "code",
   "execution_count": 45,
   "outputs": [],
   "source": [
    "out_list = lambda x: [i.get('synon_skill',None) for i in x]\n",
    "skill = out_list(skills)"
   ],
   "metadata": {
    "collapsed": false,
    "ExecuteTime": {
     "end_time": "2023-10-12T10:02:06.258564Z",
     "start_time": "2023-10-12T10:02:06.253642Z"
    }
   },
   "id": "da991b32a693e10c"
  },
  {
   "cell_type": "code",
   "execution_count": 46,
   "outputs": [
    {
     "name": "stdout",
     "output_type": "stream",
     "text": [
      "['Hadoop', 'Adobe Spark']\n"
     ]
    }
   ],
   "source": [
    "print(out_list(skills))"
   ],
   "metadata": {
    "collapsed": false,
    "ExecuteTime": {
     "end_time": "2023-10-12T10:02:06.434834Z",
     "start_time": "2023-10-12T10:02:06.429227Z"
    }
   },
   "id": "932dea13889ff0ae"
  },
  {
   "cell_type": "code",
   "execution_count": 58,
   "outputs": [
    {
     "name": "stdout",
     "output_type": "stream",
     "text": [
      "['Spark', 'Hadoop']\n"
     ]
    }
   ],
   "source": [
    "print(skill)"
   ],
   "metadata": {
    "collapsed": false,
    "ExecuteTime": {
     "end_time": "2023-10-12T10:04:29.372165Z",
     "start_time": "2023-10-12T10:04:29.361453Z"
    }
   },
   "id": "eb08eafbdd5a60be"
  },
  {
   "cell_type": "code",
   "execution_count": null,
   "outputs": [],
   "source": [],
   "metadata": {
    "collapsed": false
   },
   "id": "e5cb8ac098da8b91"
  }
 ],
 "metadata": {
  "kernelspec": {
   "display_name": "Python 3",
   "language": "python",
   "name": "python3"
  },
  "language_info": {
   "codemirror_mode": {
    "name": "ipython",
    "version": 2
   },
   "file_extension": ".py",
   "mimetype": "text/x-python",
   "name": "python",
   "nbconvert_exporter": "python",
   "pygments_lexer": "ipython2",
   "version": "2.7.6"
  }
 },
 "nbformat": 4,
 "nbformat_minor": 5
}
